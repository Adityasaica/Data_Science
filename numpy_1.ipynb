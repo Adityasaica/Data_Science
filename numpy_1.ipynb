{
 "cells": [
  {
   "cell_type": "code",
   "execution_count": 1,
   "id": "ffa51b5c",
   "metadata": {
    "ExecuteTime": {
     "end_time": "2023-12-19T14:02:25.549755Z",
     "start_time": "2023-12-19T14:02:25.330751Z"
    }
   },
   "outputs": [],
   "source": [
    "#numpy arrays"
   ]
  },
  {
   "cell_type": "code",
   "execution_count": 2,
   "id": "4b6b2d5f",
   "metadata": {
    "ExecuteTime": {
     "end_time": "2023-12-19T14:02:25.640503Z",
     "start_time": "2023-12-19T14:02:25.341991Z"
    }
   },
   "outputs": [],
   "source": [
    "import numpy as np"
   ]
  },
  {
   "cell_type": "code",
   "execution_count": 3,
   "id": "64d1024b",
   "metadata": {
    "ExecuteTime": {
     "end_time": "2023-12-19T14:02:25.640696Z",
     "start_time": "2023-12-19T14:02:25.459894Z"
    }
   },
   "outputs": [],
   "source": [
    "my_list=[1,2,3]"
   ]
  },
  {
   "cell_type": "code",
   "execution_count": 4,
   "id": "c9779768",
   "metadata": {
    "ExecuteTime": {
     "end_time": "2023-12-19T14:02:25.640796Z",
     "start_time": "2023-12-19T14:02:25.463195Z"
    }
   },
   "outputs": [],
   "source": [
    "my_array=np.array(my_list)"
   ]
  },
  {
   "cell_type": "code",
   "execution_count": 5,
   "id": "f9f8d71b",
   "metadata": {
    "ExecuteTime": {
     "end_time": "2023-12-19T14:02:25.642101Z",
     "start_time": "2023-12-19T14:02:25.470351Z"
    }
   },
   "outputs": [
    {
     "data": {
      "text/plain": "array([1, 2, 3])"
     },
     "execution_count": 5,
     "metadata": {},
     "output_type": "execute_result"
    }
   ],
   "source": [
    "my_array"
   ]
  },
  {
   "cell_type": "code",
   "execution_count": 6,
   "id": "416f6556",
   "metadata": {
    "ExecuteTime": {
     "end_time": "2023-12-19T14:02:25.642238Z",
     "start_time": "2023-12-19T14:02:25.475997Z"
    }
   },
   "outputs": [],
   "source": [
    "#2-D array"
   ]
  },
  {
   "cell_type": "code",
   "execution_count": 7,
   "id": "7680c957",
   "metadata": {
    "ExecuteTime": {
     "end_time": "2023-12-19T14:02:25.642324Z",
     "start_time": "2023-12-19T14:02:25.479051Z"
    }
   },
   "outputs": [],
   "source": [
    "mat=np.array([[1,2,3],[4,5,6],[7,8,9]])"
   ]
  },
  {
   "cell_type": "code",
   "execution_count": 8,
   "id": "87eeaab1",
   "metadata": {
    "ExecuteTime": {
     "end_time": "2023-12-19T14:02:25.642519Z",
     "start_time": "2023-12-19T14:02:25.482412Z"
    }
   },
   "outputs": [
    {
     "data": {
      "text/plain": "array([[1, 2, 3],\n       [4, 5, 6],\n       [7, 8, 9]])"
     },
     "execution_count": 8,
     "metadata": {},
     "output_type": "execute_result"
    }
   ],
   "source": [
    "mat"
   ]
  },
  {
   "cell_type": "code",
   "execution_count": 9,
   "id": "9ce701c0",
   "metadata": {
    "ExecuteTime": {
     "end_time": "2023-12-19T14:02:25.643235Z",
     "start_time": "2023-12-19T14:02:25.486143Z"
    }
   },
   "outputs": [
    {
     "data": {
      "text/plain": "array([ 1. ,  1.1,  1.2,  1.3,  1.4,  1.5,  1.6,  1.7,  1.8,  1.9,  2. ,\n        2.1,  2.2,  2.3,  2.4,  2.5,  2.6,  2.7,  2.8,  2.9,  3. ,  3.1,\n        3.2,  3.3,  3.4,  3.5,  3.6,  3.7,  3.8,  3.9,  4. ,  4.1,  4.2,\n        4.3,  4.4,  4.5,  4.6,  4.7,  4.8,  4.9,  5. ,  5.1,  5.2,  5.3,\n        5.4,  5.5,  5.6,  5.7,  5.8,  5.9,  6. ,  6.1,  6.2,  6.3,  6.4,\n        6.5,  6.6,  6.7,  6.8,  6.9,  7. ,  7.1,  7.2,  7.3,  7.4,  7.5,\n        7.6,  7.7,  7.8,  7.9,  8. ,  8.1,  8.2,  8.3,  8.4,  8.5,  8.6,\n        8.7,  8.8,  8.9,  9. ,  9.1,  9.2,  9.3,  9.4,  9.5,  9.6,  9.7,\n        9.8,  9.9, 10. , 10.1, 10.2, 10.3, 10.4, 10.5, 10.6, 10.7, 10.8,\n       10.9, 11. , 11.1, 11.2, 11.3, 11.4, 11.5, 11.6, 11.7, 11.8, 11.9,\n       12. , 12.1, 12.2, 12.3, 12.4, 12.5, 12.6, 12.7, 12.8, 12.9, 13. ,\n       13.1, 13.2, 13.3, 13.4, 13.5, 13.6, 13.7, 13.8, 13.9, 14. , 14.1,\n       14.2, 14.3, 14.4, 14.5, 14.6, 14.7, 14.8, 14.9, 15. , 15.1, 15.2,\n       15.3, 15.4, 15.5, 15.6, 15.7, 15.8, 15.9, 16. , 16.1, 16.2, 16.3,\n       16.4, 16.5, 16.6, 16.7, 16.8, 16.9, 17. , 17.1, 17.2, 17.3, 17.4,\n       17.5, 17.6, 17.7, 17.8, 17.9, 18. , 18.1, 18.2, 18.3, 18.4, 18.5,\n       18.6, 18.7, 18.8, 18.9, 19. , 19.1, 19.2, 19.3, 19.4, 19.5, 19.6,\n       19.7, 19.8, 19.9, 20. , 20.1, 20.2, 20.3, 20.4, 20.5, 20.6, 20.7,\n       20.8, 20.9, 21. , 21.1, 21.2, 21.3, 21.4, 21.5, 21.6, 21.7, 21.8,\n       21.9, 22. , 22.1, 22.2, 22.3, 22.4, 22.5, 22.6, 22.7, 22.8, 22.9,\n       23. , 23.1, 23.2, 23.3, 23.4, 23.5, 23.6, 23.7, 23.8, 23.9, 24. ,\n       24.1, 24.2, 24.3, 24.4, 24.5, 24.6, 24.7, 24.8, 24.9, 25. , 25.1,\n       25.2, 25.3, 25.4, 25.5, 25.6, 25.7, 25.8, 25.9, 26. , 26.1, 26.2,\n       26.3, 26.4, 26.5, 26.6, 26.7, 26.8, 26.9, 27. , 27.1, 27.2, 27.3,\n       27.4, 27.5, 27.6, 27.7, 27.8, 27.9, 28. , 28.1, 28.2, 28.3, 28.4,\n       28.5, 28.6, 28.7, 28.8, 28.9, 29. , 29.1, 29.2, 29.3, 29.4, 29.5,\n       29.6, 29.7, 29.8, 29.9, 30. , 30.1, 30.2, 30.3, 30.4, 30.5, 30.6,\n       30.7, 30.8, 30.9, 31. , 31.1, 31.2, 31.3, 31.4, 31.5, 31.6, 31.7,\n       31.8, 31.9, 32. , 32.1, 32.2, 32.3, 32.4, 32.5, 32.6, 32.7, 32.8,\n       32.9, 33. , 33.1, 33.2, 33.3, 33.4, 33.5, 33.6, 33.7, 33.8, 33.9,\n       34. , 34.1, 34.2, 34.3, 34.4, 34.5, 34.6, 34.7, 34.8, 34.9, 35. ,\n       35.1, 35.2, 35.3, 35.4, 35.5, 35.6, 35.7, 35.8, 35.9, 36. , 36.1,\n       36.2, 36.3, 36.4, 36.5, 36.6, 36.7, 36.8, 36.9, 37. , 37.1, 37.2,\n       37.3, 37.4, 37.5, 37.6, 37.7, 37.8, 37.9, 38. , 38.1, 38.2, 38.3,\n       38.4, 38.5, 38.6, 38.7, 38.8, 38.9, 39. , 39.1, 39.2, 39.3, 39.4,\n       39.5, 39.6, 39.7, 39.8, 39.9, 40. , 40.1, 40.2, 40.3, 40.4, 40.5,\n       40.6, 40.7, 40.8, 40.9, 41. , 41.1, 41.2, 41.3, 41.4, 41.5, 41.6,\n       41.7, 41.8, 41.9, 42. , 42.1, 42.2, 42.3, 42.4, 42.5, 42.6, 42.7,\n       42.8, 42.9, 43. , 43.1, 43.2, 43.3, 43.4, 43.5, 43.6, 43.7, 43.8,\n       43.9, 44. , 44.1, 44.2, 44.3, 44.4, 44.5, 44.6, 44.7, 44.8, 44.9,\n       45. , 45.1, 45.2, 45.3, 45.4, 45.5, 45.6, 45.7, 45.8, 45.9, 46. ,\n       46.1, 46.2, 46.3, 46.4, 46.5, 46.6, 46.7, 46.8, 46.9, 47. , 47.1,\n       47.2, 47.3, 47.4, 47.5, 47.6, 47.7, 47.8, 47.9, 48. , 48.1, 48.2,\n       48.3, 48.4, 48.5, 48.6, 48.7, 48.8, 48.9, 49. , 49.1, 49.2, 49.3,\n       49.4, 49.5, 49.6, 49.7, 49.8, 49.9, 50. , 50.1, 50.2, 50.3, 50.4,\n       50.5, 50.6, 50.7, 50.8, 50.9, 51. , 51.1, 51.2, 51.3, 51.4, 51.5,\n       51.6, 51.7, 51.8, 51.9, 52. , 52.1, 52.2, 52.3, 52.4, 52.5, 52.6,\n       52.7, 52.8, 52.9, 53. , 53.1, 53.2, 53.3, 53.4, 53.5, 53.6, 53.7,\n       53.8, 53.9, 54. , 54.1, 54.2, 54.3, 54.4, 54.5, 54.6, 54.7, 54.8,\n       54.9, 55. , 55.1, 55.2, 55.3, 55.4, 55.5, 55.6, 55.7, 55.8, 55.9,\n       56. , 56.1, 56.2, 56.3, 56.4, 56.5, 56.6, 56.7, 56.8, 56.9, 57. ,\n       57.1, 57.2, 57.3, 57.4, 57.5, 57.6, 57.7, 57.8, 57.9, 58. , 58.1,\n       58.2, 58.3, 58.4, 58.5, 58.6, 58.7, 58.8, 58.9, 59. , 59.1, 59.2,\n       59.3, 59.4, 59.5, 59.6, 59.7, 59.8, 59.9, 60. , 60.1, 60.2, 60.3,\n       60.4, 60.5, 60.6, 60.7, 60.8, 60.9, 61. , 61.1, 61.2, 61.3, 61.4,\n       61.5, 61.6, 61.7, 61.8, 61.9, 62. , 62.1, 62.2, 62.3, 62.4, 62.5,\n       62.6, 62.7, 62.8, 62.9, 63. , 63.1, 63.2, 63.3, 63.4, 63.5, 63.6,\n       63.7, 63.8, 63.9, 64. , 64.1, 64.2, 64.3, 64.4, 64.5, 64.6, 64.7,\n       64.8, 64.9, 65. , 65.1, 65.2, 65.3, 65.4, 65.5, 65.6, 65.7, 65.8,\n       65.9, 66. , 66.1, 66.2, 66.3, 66.4, 66.5, 66.6, 66.7, 66.8, 66.9,\n       67. , 67.1, 67.2, 67.3, 67.4, 67.5, 67.6, 67.7, 67.8, 67.9, 68. ,\n       68.1, 68.2, 68.3, 68.4, 68.5, 68.6, 68.7, 68.8, 68.9, 69. , 69.1,\n       69.2, 69.3, 69.4, 69.5, 69.6, 69.7, 69.8, 69.9, 70. , 70.1, 70.2,\n       70.3, 70.4, 70.5, 70.6, 70.7, 70.8, 70.9, 71. , 71.1, 71.2, 71.3,\n       71.4, 71.5, 71.6, 71.7, 71.8, 71.9, 72. , 72.1, 72.2, 72.3, 72.4,\n       72.5, 72.6, 72.7, 72.8, 72.9, 73. , 73.1, 73.2, 73.3, 73.4, 73.5,\n       73.6, 73.7, 73.8, 73.9, 74. , 74.1, 74.2, 74.3, 74.4, 74.5, 74.6,\n       74.7, 74.8, 74.9, 75. , 75.1, 75.2, 75.3, 75.4, 75.5, 75.6, 75.7,\n       75.8, 75.9, 76. , 76.1, 76.2, 76.3, 76.4, 76.5, 76.6, 76.7, 76.8,\n       76.9, 77. , 77.1, 77.2, 77.3, 77.4, 77.5, 77.6, 77.7, 77.8, 77.9,\n       78. , 78.1, 78.2, 78.3, 78.4, 78.5, 78.6, 78.7, 78.8, 78.9, 79. ,\n       79.1, 79.2, 79.3, 79.4, 79.5, 79.6, 79.7, 79.8, 79.9, 80. , 80.1,\n       80.2, 80.3, 80.4, 80.5, 80.6, 80.7, 80.8, 80.9, 81. , 81.1, 81.2,\n       81.3, 81.4, 81.5, 81.6, 81.7, 81.8, 81.9, 82. , 82.1, 82.2, 82.3,\n       82.4, 82.5, 82.6, 82.7, 82.8, 82.9, 83. , 83.1, 83.2, 83.3, 83.4,\n       83.5, 83.6, 83.7, 83.8, 83.9, 84. , 84.1, 84.2, 84.3, 84.4, 84.5,\n       84.6, 84.7, 84.8, 84.9, 85. , 85.1, 85.2, 85.3, 85.4, 85.5, 85.6,\n       85.7, 85.8, 85.9, 86. , 86.1, 86.2, 86.3, 86.4, 86.5, 86.6, 86.7,\n       86.8, 86.9, 87. , 87.1, 87.2, 87.3, 87.4, 87.5, 87.6, 87.7, 87.8,\n       87.9, 88. , 88.1, 88.2, 88.3, 88.4, 88.5, 88.6, 88.7, 88.8, 88.9,\n       89. , 89.1, 89.2, 89.3, 89.4, 89.5, 89.6, 89.7, 89.8, 89.9, 90. ,\n       90.1, 90.2, 90.3, 90.4, 90.5, 90.6, 90.7, 90.8, 90.9, 91. , 91.1,\n       91.2, 91.3, 91.4, 91.5, 91.6, 91.7, 91.8, 91.9, 92. , 92.1, 92.2,\n       92.3, 92.4, 92.5, 92.6, 92.7, 92.8, 92.9, 93. , 93.1, 93.2, 93.3,\n       93.4, 93.5, 93.6, 93.7, 93.8, 93.9, 94. , 94.1, 94.2, 94.3, 94.4,\n       94.5, 94.6, 94.7, 94.8, 94.9, 95. , 95.1, 95.2, 95.3, 95.4, 95.5,\n       95.6, 95.7, 95.8, 95.9, 96. , 96.1, 96.2, 96.3, 96.4, 96.5, 96.6,\n       96.7, 96.8, 96.9, 97. , 97.1, 97.2, 97.3, 97.4, 97.5, 97.6, 97.7,\n       97.8, 97.9, 98. , 98.1, 98.2, 98.3, 98.4, 98.5, 98.6, 98.7, 98.8,\n       98.9, 99. , 99.1, 99.2, 99.3, 99.4, 99.5, 99.6, 99.7, 99.8, 99.9])"
     },
     "execution_count": 9,
     "metadata": {},
     "output_type": "execute_result"
    }
   ],
   "source": [
    "np.arange(1,100,0.1)\n",
    "#this will give an array"
   ]
  },
  {
   "cell_type": "code",
   "execution_count": 10,
   "id": "f39233a1",
   "metadata": {
    "ExecuteTime": {
     "end_time": "2023-12-19T14:02:25.643322Z",
     "start_time": "2023-12-19T14:02:25.494932Z"
    }
   },
   "outputs": [],
   "source": [
    "#1d vectors"
   ]
  },
  {
   "cell_type": "code",
   "execution_count": 11,
   "id": "26b5ed61",
   "metadata": {
    "ExecuteTime": {
     "end_time": "2023-12-19T14:02:25.643503Z",
     "start_time": "2023-12-19T14:02:25.496914Z"
    }
   },
   "outputs": [
    {
     "data": {
      "text/plain": "array([0., 0., 0.])"
     },
     "execution_count": 11,
     "metadata": {},
     "output_type": "execute_result"
    }
   ],
   "source": [
    "np.zeros(3)"
   ]
  },
  {
   "cell_type": "code",
   "execution_count": 12,
   "id": "9070e901",
   "metadata": {
    "ExecuteTime": {
     "end_time": "2023-12-19T14:02:25.643671Z",
     "start_time": "2023-12-19T14:02:25.502601Z"
    }
   },
   "outputs": [
    {
     "data": {
      "text/plain": "array([[0., 0., 0., 0., 0.],\n       [0., 0., 0., 0., 0.],\n       [0., 0., 0., 0., 0.],\n       [0., 0., 0., 0., 0.],\n       [0., 0., 0., 0., 0.]])"
     },
     "execution_count": 12,
     "metadata": {},
     "output_type": "execute_result"
    }
   ],
   "source": [
    "np.zeros((5,5))"
   ]
  },
  {
   "cell_type": "code",
   "execution_count": 13,
   "id": "8bff0c0c",
   "metadata": {
    "ExecuteTime": {
     "end_time": "2023-12-19T14:02:25.643846Z",
     "start_time": "2023-12-19T14:02:25.506643Z"
    }
   },
   "outputs": [
    {
     "data": {
      "text/plain": "array([[0., 0., 0.],\n       [0., 0., 0.]])"
     },
     "execution_count": 13,
     "metadata": {},
     "output_type": "execute_result"
    }
   ],
   "source": [
    "np.zeros((2,3))"
   ]
  },
  {
   "cell_type": "code",
   "execution_count": 14,
   "id": "b993c1e5",
   "metadata": {
    "ExecuteTime": {
     "end_time": "2023-12-19T14:02:25.643917Z",
     "start_time": "2023-12-19T14:02:25.510162Z"
    }
   },
   "outputs": [],
   "source": [
    "#matrices of ones"
   ]
  },
  {
   "cell_type": "code",
   "execution_count": 15,
   "id": "f5a78ca3",
   "metadata": {
    "ExecuteTime": {
     "end_time": "2023-12-19T14:02:25.644082Z",
     "start_time": "2023-12-19T14:02:25.517337Z"
    }
   },
   "outputs": [
    {
     "data": {
      "text/plain": "array([1., 1.])"
     },
     "execution_count": 15,
     "metadata": {},
     "output_type": "execute_result"
    }
   ],
   "source": [
    "np.ones(2)"
   ]
  },
  {
   "cell_type": "code",
   "execution_count": 16,
   "id": "4547a128",
   "metadata": {
    "ExecuteTime": {
     "end_time": "2023-12-19T14:02:25.644243Z",
     "start_time": "2023-12-19T14:02:25.521244Z"
    }
   },
   "outputs": [
    {
     "data": {
      "text/plain": "array([[1., 1., 1., 1., 1.],\n       [1., 1., 1., 1., 1.],\n       [1., 1., 1., 1., 1.],\n       [1., 1., 1., 1., 1.]])"
     },
     "execution_count": 16,
     "metadata": {},
     "output_type": "execute_result"
    }
   ],
   "source": [
    "np.ones((4,5))"
   ]
  },
  {
   "cell_type": "code",
   "execution_count": 17,
   "id": "5cf501b0",
   "metadata": {
    "ExecuteTime": {
     "end_time": "2023-12-19T14:02:25.644458Z",
     "start_time": "2023-12-19T14:02:25.525038Z"
    }
   },
   "outputs": [],
   "source": [
    "#using of linspace"
   ]
  },
  {
   "cell_type": "code",
   "execution_count": 18,
   "id": "57f27492",
   "metadata": {
    "ExecuteTime": {
     "end_time": "2023-12-19T14:02:25.644891Z",
     "start_time": "2023-12-19T14:02:25.529016Z"
    }
   },
   "outputs": [
    {
     "data": {
      "text/plain": "array([1.        , 1.01010101, 1.02020202, 1.03030303, 1.04040404,\n       1.05050505, 1.06060606, 1.07070707, 1.08080808, 1.09090909,\n       1.1010101 , 1.11111111, 1.12121212, 1.13131313, 1.14141414,\n       1.15151515, 1.16161616, 1.17171717, 1.18181818, 1.19191919,\n       1.2020202 , 1.21212121, 1.22222222, 1.23232323, 1.24242424,\n       1.25252525, 1.26262626, 1.27272727, 1.28282828, 1.29292929,\n       1.3030303 , 1.31313131, 1.32323232, 1.33333333, 1.34343434,\n       1.35353535, 1.36363636, 1.37373737, 1.38383838, 1.39393939,\n       1.4040404 , 1.41414141, 1.42424242, 1.43434343, 1.44444444,\n       1.45454545, 1.46464646, 1.47474747, 1.48484848, 1.49494949,\n       1.50505051, 1.51515152, 1.52525253, 1.53535354, 1.54545455,\n       1.55555556, 1.56565657, 1.57575758, 1.58585859, 1.5959596 ,\n       1.60606061, 1.61616162, 1.62626263, 1.63636364, 1.64646465,\n       1.65656566, 1.66666667, 1.67676768, 1.68686869, 1.6969697 ,\n       1.70707071, 1.71717172, 1.72727273, 1.73737374, 1.74747475,\n       1.75757576, 1.76767677, 1.77777778, 1.78787879, 1.7979798 ,\n       1.80808081, 1.81818182, 1.82828283, 1.83838384, 1.84848485,\n       1.85858586, 1.86868687, 1.87878788, 1.88888889, 1.8989899 ,\n       1.90909091, 1.91919192, 1.92929293, 1.93939394, 1.94949495,\n       1.95959596, 1.96969697, 1.97979798, 1.98989899, 2.        ])"
     },
     "execution_count": 18,
     "metadata": {},
     "output_type": "execute_result"
    }
   ],
   "source": [
    "np.linspace(1,2,100)"
   ]
  },
  {
   "cell_type": "code",
   "execution_count": 19,
   "id": "a07fcce1",
   "metadata": {
    "ExecuteTime": {
     "end_time": "2023-12-19T14:02:25.644973Z",
     "start_time": "2023-12-19T14:02:25.531617Z"
    }
   },
   "outputs": [],
   "source": [
    "#returns a one dimentional array"
   ]
  },
  {
   "cell_type": "code",
   "execution_count": 20,
   "id": "432249aa",
   "metadata": {
    "ExecuteTime": {
     "end_time": "2023-12-19T14:02:25.654288Z",
     "start_time": "2023-12-19T14:02:25.534593Z"
    }
   },
   "outputs": [
    {
     "data": {
      "text/plain": "array([1.        , 1.04040404, 1.08080808, 1.12121212, 1.16161616,\n       1.2020202 , 1.24242424, 1.28282828, 1.32323232, 1.36363636,\n       1.4040404 , 1.44444444, 1.48484848, 1.52525253, 1.56565657,\n       1.60606061, 1.64646465, 1.68686869, 1.72727273, 1.76767677,\n       1.80808081, 1.84848485, 1.88888889, 1.92929293, 1.96969697,\n       2.01010101, 2.05050505, 2.09090909, 2.13131313, 2.17171717,\n       2.21212121, 2.25252525, 2.29292929, 2.33333333, 2.37373737,\n       2.41414141, 2.45454545, 2.49494949, 2.53535354, 2.57575758,\n       2.61616162, 2.65656566, 2.6969697 , 2.73737374, 2.77777778,\n       2.81818182, 2.85858586, 2.8989899 , 2.93939394, 2.97979798,\n       3.02020202, 3.06060606, 3.1010101 , 3.14141414, 3.18181818,\n       3.22222222, 3.26262626, 3.3030303 , 3.34343434, 3.38383838,\n       3.42424242, 3.46464646, 3.50505051, 3.54545455, 3.58585859,\n       3.62626263, 3.66666667, 3.70707071, 3.74747475, 3.78787879,\n       3.82828283, 3.86868687, 3.90909091, 3.94949495, 3.98989899,\n       4.03030303, 4.07070707, 4.11111111, 4.15151515, 4.19191919,\n       4.23232323, 4.27272727, 4.31313131, 4.35353535, 4.39393939,\n       4.43434343, 4.47474747, 4.51515152, 4.55555556, 4.5959596 ,\n       4.63636364, 4.67676768, 4.71717172, 4.75757576, 4.7979798 ,\n       4.83838384, 4.87878788, 4.91919192, 4.95959596, 5.        ])"
     },
     "execution_count": 20,
     "metadata": {},
     "output_type": "execute_result"
    }
   ],
   "source": [
    "np.linspace(1,5,100)"
   ]
  },
  {
   "cell_type": "code",
   "execution_count": 21,
   "id": "37324201",
   "metadata": {
    "ExecuteTime": {
     "end_time": "2023-12-19T14:02:25.654514Z",
     "start_time": "2023-12-19T14:02:25.541504Z"
    }
   },
   "outputs": [
    {
     "data": {
      "text/plain": "array([[1.]])"
     },
     "execution_count": 21,
     "metadata": {},
     "output_type": "execute_result"
    }
   ],
   "source": [
    "np.eye(1)"
   ]
  },
  {
   "cell_type": "code",
   "execution_count": 22,
   "id": "3679c450",
   "metadata": {
    "ExecuteTime": {
     "end_time": "2023-12-19T14:02:25.654714Z",
     "start_time": "2023-12-19T14:02:25.545329Z"
    }
   },
   "outputs": [
    {
     "data": {
      "text/plain": "array([[1., 0.],\n       [0., 1.]])"
     },
     "execution_count": 22,
     "metadata": {},
     "output_type": "execute_result"
    }
   ],
   "source": [
    "np.eye(2)"
   ]
  },
  {
   "cell_type": "code",
   "execution_count": 23,
   "id": "22228126",
   "metadata": {
    "ExecuteTime": {
     "end_time": "2023-12-19T14:02:25.655570Z",
     "start_time": "2023-12-19T14:02:25.549615Z"
    }
   },
   "outputs": [
    {
     "data": {
      "text/plain": "array([[1., 0., 0., ..., 0., 0., 0.],\n       [0., 1., 0., ..., 0., 0., 0.],\n       [0., 0., 1., ..., 0., 0., 0.],\n       ...,\n       [0., 0., 0., ..., 1., 0., 0.],\n       [0., 0., 0., ..., 0., 1., 0.],\n       [0., 0., 0., ..., 0., 0., 1.]])"
     },
     "execution_count": 23,
     "metadata": {},
     "output_type": "execute_result"
    }
   ],
   "source": [
    "np.eye(100)"
   ]
  },
  {
   "cell_type": "code",
   "execution_count": 24,
   "id": "bed67b74",
   "metadata": {
    "ExecuteTime": {
     "end_time": "2023-12-19T14:02:25.655746Z",
     "start_time": "2023-12-19T14:02:25.553747Z"
    }
   },
   "outputs": [
    {
     "data": {
      "text/plain": "array([[1., 0., 0., 0.],\n       [0., 1., 0., 0.],\n       [0., 0., 1., 0.],\n       [0., 0., 0., 1.]])"
     },
     "execution_count": 24,
     "metadata": {},
     "output_type": "execute_result"
    }
   ],
   "source": [
    "np.eye(4)"
   ]
  },
  {
   "cell_type": "code",
   "execution_count": 25,
   "id": "8ac0b771",
   "metadata": {
    "ExecuteTime": {
     "end_time": "2023-12-19T14:02:25.655993Z",
     "start_time": "2023-12-19T14:02:25.558824Z"
    }
   },
   "outputs": [
    {
     "data": {
      "text/plain": "array([[[1, 2, 3],\n        [4, 5, 6],\n        [7, 8, 9]],\n\n       [[1, 2, 3],\n        [4, 5, 6],\n        [7, 8, 9]]])"
     },
     "execution_count": 25,
     "metadata": {},
     "output_type": "execute_result"
    }
   ],
   "source": [
    "np.array([[[1,2,3],[4,5,6],[7,8,9]],[[1,2,3],[4,5,6],[7,8,9]]])"
   ]
  },
  {
   "cell_type": "code",
   "execution_count": 26,
   "id": "5f10d8d0",
   "metadata": {
    "ExecuteTime": {
     "end_time": "2023-12-19T14:02:25.656171Z",
     "start_time": "2023-12-19T14:02:25.562730Z"
    }
   },
   "outputs": [
    {
     "data": {
      "text/plain": "0.6996759495671416"
     },
     "execution_count": 26,
     "metadata": {},
     "output_type": "execute_result"
    }
   ],
   "source": [
    "np.random.rand()"
   ]
  },
  {
   "cell_type": "code",
   "execution_count": 27,
   "id": "61e5685c",
   "metadata": {
    "ExecuteTime": {
     "end_time": "2023-12-19T14:02:25.656367Z",
     "start_time": "2023-12-19T14:02:25.571165Z"
    }
   },
   "outputs": [
    {
     "data": {
      "text/plain": "array([0.26629108, 0.71807162, 0.14029338, 0.77706471, 0.58811832])"
     },
     "execution_count": 27,
     "metadata": {},
     "output_type": "execute_result"
    }
   ],
   "source": [
    "np.random.rand(5)"
   ]
  },
  {
   "cell_type": "code",
   "execution_count": 28,
   "id": "b5872361",
   "metadata": {
    "ExecuteTime": {
     "end_time": "2023-12-19T14:02:25.656683Z",
     "start_time": "2023-12-19T14:02:25.579147Z"
    }
   },
   "outputs": [
    {
     "data": {
      "text/plain": "array([[0.42658566, 0.66195534, 0.99519049, 0.16053756, 0.62308574],\n       [0.11480143, 0.25599784, 0.14990696, 0.77479067, 0.76558168],\n       [0.91379685, 0.71941129, 0.85743293, 0.9951194 , 0.87932039],\n       [0.63292884, 0.47257671, 0.58046264, 0.07645316, 0.1969993 ],\n       [0.15967561, 0.43063545, 0.17112698, 0.76978008, 0.46023536]])"
     },
     "execution_count": 28,
     "metadata": {},
     "output_type": "execute_result"
    }
   ],
   "source": [
    "np.random.rand(5,5)"
   ]
  },
  {
   "cell_type": "code",
   "execution_count": 29,
   "id": "dd549217",
   "metadata": {
    "ExecuteTime": {
     "end_time": "2023-12-19T14:02:25.657328Z",
     "start_time": "2023-12-19T14:02:25.586646Z"
    }
   },
   "outputs": [
    {
     "data": {
      "text/plain": "array([ 1.74324066, -1.43805312])"
     },
     "execution_count": 29,
     "metadata": {},
     "output_type": "execute_result"
    }
   ],
   "source": [
    "np.random.randn(2)\n",
    "#from standard normal distribution"
   ]
  },
  {
   "cell_type": "code",
   "execution_count": 30,
   "id": "009ff80e",
   "metadata": {
    "ExecuteTime": {
     "end_time": "2023-12-19T14:02:25.657534Z",
     "start_time": "2023-12-19T14:02:25.592519Z"
    }
   },
   "outputs": [
    {
     "data": {
      "text/plain": "array([[-0.53349934, -0.97124319, -1.10438241,  0.24717608],\n       [ 1.07900792,  0.70379892, -2.55018697, -0.39930623],\n       [-0.29811215, -0.63344625,  0.66544296, -1.44417707],\n       [ 0.05430853, -0.30851521,  0.20757019, -1.18801621]])"
     },
     "execution_count": 30,
     "metadata": {},
     "output_type": "execute_result"
    }
   ],
   "source": [
    "np.random.randn(4,4)"
   ]
  },
  {
   "cell_type": "code",
   "execution_count": 31,
   "id": "2313ff5c",
   "metadata": {
    "ExecuteTime": {
     "end_time": "2023-12-19T14:02:25.657708Z",
     "start_time": "2023-12-19T14:02:25.601627Z"
    }
   },
   "outputs": [
    {
     "data": {
      "text/plain": "14"
     },
     "execution_count": 31,
     "metadata": {},
     "output_type": "execute_result"
    }
   ],
   "source": [
    "np.random.randint(3,16)\n"
   ]
  },
  {
   "cell_type": "code",
   "execution_count": 32,
   "id": "4658b37d",
   "metadata": {
    "ExecuteTime": {
     "end_time": "2023-12-19T14:02:25.657888Z",
     "start_time": "2023-12-19T14:02:25.608166Z"
    }
   },
   "outputs": [
    {
     "data": {
      "text/plain": "array([10,  1, 64,  1, 65, 50, 68, 97, 10, 30])"
     },
     "execution_count": 32,
     "metadata": {},
     "output_type": "execute_result"
    }
   ],
   "source": [
    "np.random.randint(1,100,10)"
   ]
  },
  {
   "cell_type": "code",
   "execution_count": 33,
   "id": "0582cf6e",
   "metadata": {
    "ExecuteTime": {
     "end_time": "2023-12-19T14:02:25.658083Z",
     "start_time": "2023-12-19T14:02:25.617184Z"
    }
   },
   "outputs": [
    {
     "data": {
      "text/plain": "array([87, 56, 99, 73, 95, 14, 54, 83, 92, 76, 84, 46, 49, 46, 33, 80, 71,\n       65, 72, 57, 90, 85, 66, 83, 93, 54, 21, 79, 21, 88, 21,  3, 76,  3,\n       27, 19, 93, 89,  7, 81, 78, 59, 84, 14, 34, 47, 35,  8, 29, 62, 58,\n       45, 44, 42, 97, 28, 49,  1, 46, 95, 39,  1, 81, 12, 25, 64, 38, 60,\n       37, 92, 10, 64, 35, 44, 80, 10,  5, 23,  7, 87, 63, 99,  7, 89, 22,\n       63, 74, 32, 34, 33, 38, 30, 99, 96, 67, 29, 35, 99, 85, 12])"
     },
     "execution_count": 33,
     "metadata": {},
     "output_type": "execute_result"
    }
   ],
   "source": [
    "np.random.randint(1,100,100)"
   ]
  },
  {
   "cell_type": "code",
   "execution_count": 34,
   "id": "e67d00d9",
   "metadata": {
    "ExecuteTime": {
     "end_time": "2023-12-19T14:02:25.658164Z",
     "start_time": "2023-12-19T14:02:25.620491Z"
    }
   },
   "outputs": [],
   "source": [
    "#use of reshape function\n"
   ]
  },
  {
   "cell_type": "code",
   "execution_count": 35,
   "id": "13d3486b",
   "metadata": {
    "ExecuteTime": {
     "end_time": "2023-12-19T14:02:25.658244Z",
     "start_time": "2023-12-19T14:02:25.623518Z"
    }
   },
   "outputs": [],
   "source": [
    "arr=np.arange(15)"
   ]
  },
  {
   "cell_type": "raw",
   "id": "28ef31f2",
   "metadata": {},
   "source": [
    "arr"
   ]
  },
  {
   "cell_type": "raw",
   "id": "514733a3",
   "metadata": {},
   "source": []
  },
  {
   "cell_type": "code",
   "execution_count": 36,
   "id": "95ada1d8",
   "metadata": {
    "ExecuteTime": {
     "end_time": "2023-12-19T14:02:25.658420Z",
     "start_time": "2023-12-19T14:02:25.625620Z"
    }
   },
   "outputs": [
    {
     "data": {
      "text/plain": "array([ 0,  1,  2,  3,  4,  5,  6,  7,  8,  9, 10, 11, 12, 13, 14])"
     },
     "execution_count": 36,
     "metadata": {},
     "output_type": "execute_result"
    }
   ],
   "source": [
    "arr"
   ]
  },
  {
   "cell_type": "code",
   "execution_count": 37,
   "id": "894f54d0",
   "metadata": {
    "ExecuteTime": {
     "end_time": "2023-12-19T14:02:25.658590Z",
     "start_time": "2023-12-19T14:02:25.630913Z"
    }
   },
   "outputs": [
    {
     "data": {
      "text/plain": "array([[ 0,  1,  2,  3,  4],\n       [ 5,  6,  7,  8,  9],\n       [10, 11, 12, 13, 14]])"
     },
     "execution_count": 37,
     "metadata": {},
     "output_type": "execute_result"
    }
   ],
   "source": [
    "arr.reshape(3,5)"
   ]
  },
  {
   "cell_type": "code",
   "execution_count": 38,
   "id": "bb6fce3e",
   "metadata": {
    "ExecuteTime": {
     "end_time": "2023-12-19T14:02:25.658664Z",
     "start_time": "2023-12-19T14:02:25.634600Z"
    }
   },
   "outputs": [],
   "source": [
    "ranarray=np.random.randint(2,20,15)"
   ]
  },
  {
   "cell_type": "code",
   "execution_count": 39,
   "id": "40907c30",
   "metadata": {
    "ExecuteTime": {
     "end_time": "2023-12-19T14:02:25.659010Z",
     "start_time": "2023-12-19T14:02:25.637893Z"
    }
   },
   "outputs": [
    {
     "data": {
      "text/plain": "array([12, 18,  8,  3, 17, 13, 15,  4, 18,  9,  2, 16,  9, 14,  7])"
     },
     "execution_count": 39,
     "metadata": {},
     "output_type": "execute_result"
    }
   ],
   "source": [
    "ranarray"
   ]
  },
  {
   "cell_type": "code",
   "execution_count": 40,
   "id": "009e58b2",
   "metadata": {
    "ExecuteTime": {
     "end_time": "2023-12-19T14:02:25.681212Z",
     "start_time": "2023-12-19T14:02:25.641937Z"
    }
   },
   "outputs": [
    {
     "data": {
      "text/plain": "1"
     },
     "execution_count": 40,
     "metadata": {},
     "output_type": "execute_result"
    }
   ],
   "source": [
    "ranarray.argmax()\n",
    "#returns the position of the maximum value of the array"
   ]
  },
  {
   "cell_type": "code",
   "execution_count": 41,
   "id": "896c8f4a",
   "metadata": {
    "ExecuteTime": {
     "end_time": "2023-12-19T14:02:25.684428Z",
     "start_time": "2023-12-19T14:02:25.646084Z"
    }
   },
   "outputs": [
    {
     "data": {
      "text/plain": "10"
     },
     "execution_count": 41,
     "metadata": {},
     "output_type": "execute_result"
    }
   ],
   "source": [
    "ranarray.argmin()"
   ]
  },
  {
   "cell_type": "code",
   "execution_count": 42,
   "id": "363d72d0",
   "metadata": {
    "ExecuteTime": {
     "end_time": "2023-12-19T14:02:25.724109Z",
     "start_time": "2023-12-19T14:02:25.657367Z"
    }
   },
   "outputs": [
    {
     "data": {
      "text/plain": "(15,)"
     },
     "execution_count": 42,
     "metadata": {},
     "output_type": "execute_result"
    }
   ],
   "source": [
    "arr.shape"
   ]
  },
  {
   "cell_type": "code",
   "execution_count": 43,
   "id": "4f0c3311",
   "metadata": {
    "ExecuteTime": {
     "end_time": "2023-12-19T14:02:25.784083Z",
     "start_time": "2023-12-19T14:02:25.661364Z"
    }
   },
   "outputs": [
    {
     "data": {
      "text/plain": "array([[ 0,  1,  2],\n       [ 3,  4,  5],\n       [ 6,  7,  8],\n       [ 9, 10, 11],\n       [12, 13, 14]])"
     },
     "execution_count": 43,
     "metadata": {},
     "output_type": "execute_result"
    }
   ],
   "source": [
    "arr.reshape(5,3)"
   ]
  },
  {
   "cell_type": "code",
   "execution_count": 43,
   "id": "9d2f3308",
   "metadata": {
    "ExecuteTime": {
     "end_time": "2023-12-19T14:02:25.784245Z",
     "start_time": "2023-12-19T14:02:25.664117Z"
    }
   },
   "outputs": [],
   "source": []
  },
  {
   "cell_type": "code",
   "execution_count": 44,
   "id": "e7681197",
   "metadata": {
    "ExecuteTime": {
     "end_time": "2023-12-19T14:02:25.784423Z",
     "start_time": "2023-12-19T14:02:25.666378Z"
    }
   },
   "outputs": [
    {
     "data": {
      "text/plain": "dtype('int64')"
     },
     "execution_count": 44,
     "metadata": {},
     "output_type": "execute_result"
    }
   ],
   "source": [
    "arr.dtype"
   ]
  },
  {
   "cell_type": "code",
   "execution_count": 44,
   "outputs": [],
   "source": [],
   "metadata": {
    "collapsed": false,
    "ExecuteTime": {
     "end_time": "2023-12-19T14:02:25.785017Z",
     "start_time": "2023-12-19T14:02:25.668332Z"
    }
   },
   "id": "dc0379557e1763bd"
  }
 ],
 "metadata": {
  "kernelspec": {
   "display_name": "Python 3 (ipykernel)",
   "language": "python",
   "name": "python3"
  },
  "language_info": {
   "codemirror_mode": {
    "name": "ipython",
    "version": 3
   },
   "file_extension": ".py",
   "mimetype": "text/x-python",
   "name": "python",
   "nbconvert_exporter": "python",
   "pygments_lexer": "ipython3",
   "version": "3.11.5"
  }
 },
 "nbformat": 4,
 "nbformat_minor": 5
}
